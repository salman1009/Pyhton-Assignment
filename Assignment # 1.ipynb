{
 "cells": [
  {
   "cell_type": "code",
   "execution_count": 15,
   "metadata": {},
   "outputs": [
    {
     "name": "stdout",
     "output_type": "stream",
     "text": [
      "Twinkle, Twinkle, Little, star,\n",
      "      How I Wonder what you are!\n",
      "        Up above the world so high,\n",
      "        Like a diamond in the sky,\n",
      "Twinckle, Twinkle, Little, star,\n",
      "      How I Wonder what you are!\n"
     ]
    }
   ],
   "source": [
    "#1. Write a Python program to print the following string in a specific format.\n",
    "\n",
    "print(\"Twinkle, Twinkle, Little, star,\")\n",
    "print(\"      How I Wonder what you are!\")\n",
    "print(\"        Up above the world so high,\")\n",
    "print(\"        Like a diamond in the sky,\")\n",
    "print(\"Twinckle, Twinkle, Little, star,\")\n",
    "print(\"      How I Wonder what you are!\")"
   ]
  },
  {
   "cell_type": "code",
   "execution_count": 5,
   "metadata": {},
   "outputs": [
    {
     "name": "stdout",
     "output_type": "stream",
     "text": [
      "3.7.4 (default, Aug  9 2019, 18:34:13) [MSC v.1915 64 bit (AMD64)]\n"
     ]
    }
   ],
   "source": [
    "# 2. Write a Python program to get the Python version you are using.\n",
    "\n",
    "import sys\n",
    "system = sys.version\n",
    "print(system)"
   ]
  },
  {
   "cell_type": "code",
   "execution_count": 7,
   "metadata": {},
   "outputs": [
    {
     "name": "stdout",
     "output_type": "stream",
     "text": [
      "current date and time : \n",
      "03-11-2019 19:-05:-36:\n"
     ]
    }
   ],
   "source": [
    "# 3. Write a Python program to display the current date and time.\n",
    "\n",
    "import datetime\n",
    "now = datetime.datetime.now()\n",
    "print(\"current date and time : \")\n",
    "print(now.strftime(\"%d-%m-%Y %H:-%M:-%S:\"))"
   ]
  },
  {
   "cell_type": "code",
   "execution_count": 10,
   "metadata": {},
   "outputs": [
    {
     "name": "stdout",
     "output_type": "stream",
     "text": [
      "Please enter the radius of circle 2\n",
      "Radius is :  2\n",
      "Area of thecircle is  12.566370614359172\n"
     ]
    }
   ],
   "source": [
    "# 4. Write a Python program which accepts the radius of a circle from the user and compute the area.\n",
    "\n",
    "import math\n",
    "from math import pi\n",
    "radius = input(\"Please enter the radius of circle \")\n",
    "print(\"Radius is : \", radius)\n",
    "Area_circle = pi*float(radius)**2\n",
    "print(\"Area of thecircle is \", Area_circle)\n"
   ]
  },
  {
   "cell_type": "code",
   "execution_count": 13,
   "metadata": {},
   "outputs": [
    {
     "name": "stdout",
     "output_type": "stream",
     "text": [
      "Input your First Name : SYED\n",
      "Input your Last Nmae : SALMAN\n",
      "SALMAN SYED\n"
     ]
    }
   ],
   "source": [
    "# 5. Write a Python program which accepts the user's first and last name and print them in reverse order with a space between them.\n",
    "\n",
    "first_name = input(\"Input your First Name : \")\n",
    "last_name = input(\"Input your Last Nmae : \")\n",
    "print(last_name + \" \" + first_name)"
   ]
  },
  {
   "cell_type": "code",
   "execution_count": 14,
   "metadata": {},
   "outputs": [
    {
     "name": "stdout",
     "output_type": "stream",
     "text": [
      "Enter the first num : 5\n",
      "Enter the second num : 10\n",
      "The sum of 5 and 10 is 15\n"
     ]
    }
   ],
   "source": [
    "# 6. Write a python program which takes two inputs from user and print them addition.\n",
    "\n",
    "a = input(\"Enter the first num : \")\n",
    "b = input(\"Enter the second num : \")\n",
    "sum = int(a) + int(b)\n",
    "print(\"The sum of {0} and {1} is {2}\".format(a, b, sum))"
   ]
  },
  {
   "cell_type": "code",
   "execution_count": null,
   "metadata": {},
   "outputs": [],
   "source": []
  }
 ],
 "metadata": {
  "kernelspec": {
   "display_name": "Python 3",
   "language": "python",
   "name": "python3"
  },
  "language_info": {
   "codemirror_mode": {
    "name": "ipython",
    "version": 3
   },
   "file_extension": ".py",
   "mimetype": "text/x-python",
   "name": "python",
   "nbconvert_exporter": "python",
   "pygments_lexer": "ipython3",
   "version": "3.7.4"
  }
 },
 "nbformat": 4,
 "nbformat_minor": 2
}
