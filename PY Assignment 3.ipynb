{
 "cells": [
  {
   "cell_type": "code",
   "execution_count": 1,
   "metadata": {},
   "outputs": [
    {
     "name": "stdout",
     "output_type": "stream",
     "text": [
      "Key is present in the dictionary\n",
      "Key is not present in the dictionary\n"
     ]
    }
   ],
   "source": [
    "#6. Write a Python script to check if a given key already exists in a dictionary\n",
    "a = {1: 10, 2: 20, 3: 30, 4: 40, 5: 50, 6: 60}\n",
    "def is_key_present(x):\n",
    "  if x in a:\n",
    "      print('Key is present in the dictionary')\n",
    "  else:\n",
    "      print('Key is not present in the dictionary')\n",
    "is_key_present(1)\n",
    "is_key_present(7)"
   ]
  },
  {
   "cell_type": "code",
   "execution_count": 1,
   "metadata": {},
   "outputs": [
    {
     "name": "stdout",
     "output_type": "stream",
     "text": [
      "sum of all numeric items =  603.5\n"
     ]
    }
   ],
   "source": [
    "#4. Write a Python program to sum all the numeric items in a dictionary\n",
    "dict = {'data1':3.5,'data2':500,'data3':100}\n",
    "print(\"sum of all numeric items = \", sum(dict.values()))"
   ]
  },
  {
   "cell_type": "code",
   "execution_count": 3,
   "metadata": {},
   "outputs": [
    {
     "name": "stdout",
     "output_type": "stream",
     "text": [
      "99\n",
      "200.5\n"
     ]
    }
   ],
   "source": [
    "#5. Write a program to identify duplicate values from list\n",
    "list = [100.5,20,99,1.5,99,99.9,98.9,200.5,200.5,20.5]\n",
    "list.sort()\n",
    "for i in range (len (list) -1):\n",
    " if list[i] == list[i+1]:\n",
    "  print (list[i])"
   ]
  },
  {
   "cell_type": "code",
   "execution_count": 4,
   "metadata": {},
   "outputs": [
    {
     "name": "stdout",
     "output_type": "stream",
     "text": [
      "Enter your 1st number 100\n",
      "Enter your 2nd number 2\n",
      "which operation would you like to perform \n",
      "Enter desired operation +,-,*,//,** : //\n",
      "100 // 2 = 50\n"
     ]
    }
   ],
   "source": [
    "#1. Make a calculator using Python with addition , subtraction , multiplication , division and power.\n",
    "num1 = int(input(\"Enter your 1st number \"))\n",
    "num2 = int(input(\"Enter your 2nd number \"))\n",
    "print(\"which operation would you like to perform \")\n",
    "ch = input(\"Enter desired operation +,-,*,//,** : \")\n",
    "if ch == '//' :\n",
    "    result = num1 // num2 \n",
    "elif ch == '*' :\n",
    "    result = num1 * num2\n",
    "elif ch == '+' :    \n",
    "    result = num1 + num2\n",
    "elif ch == '-' :\n",
    "    result = num1 - num2\n",
    "elif ch == '**' :\n",
    "    result = num1 ** num2\n",
    "    \n",
    "print(num1, ch, num2, \"=\", result)  "
   ]
  },
  {
   "cell_type": "code",
   "execution_count": 5,
   "metadata": {},
   "outputs": [
    {
     "name": "stdout",
     "output_type": "stream",
     "text": [
      "{'yasir': 1, 'adeel': 2}\n",
      "{'yasir': 1, 'adeel': 2, 'a': 100, 'sylani': 3, 'ali mughal': 4}\n"
     ]
    }
   ],
   "source": [
    "#3. Write a Python script to add a key to a dictionary\n",
    "d = {'yasir': 1, 'adeel': 2}\n",
    "print(d)\n",
    "d['a'] = 100  \n",
    "d['sylani'] = 3  \n",
    "d['ali mughal'] = 4\n",
    "print(d)"
   ]
  },
  {
   "cell_type": "code",
   "execution_count": null,
   "metadata": {},
   "outputs": [],
   "source": []
  }
 ],
 "metadata": {
  "kernelspec": {
   "display_name": "Python 3",
   "language": "python",
   "name": "python3"
  },
  "language_info": {
   "codemirror_mode": {
    "name": "ipython",
    "version": 3
   },
   "file_extension": ".py",
   "mimetype": "text/x-python",
   "name": "python",
   "nbconvert_exporter": "python",
   "pygments_lexer": "ipython3",
   "version": "3.7.4"
  }
 },
 "nbformat": 4,
 "nbformat_minor": 2
}
