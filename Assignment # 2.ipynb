{
 "cells": [
  {
   "cell_type": "code",
   "execution_count": 6,
   "metadata": {},
   "outputs": [
    {
     "name": "stdout",
     "output_type": "stream",
     "text": [
      "CLASS 8TH Marksheet\n",
      "Enter marks of the English subject:   90\n",
      "Enter marks of the Urdu subject:      90\n",
      "Enter marks of the Math subject:      95\n",
      "Enter marks of the Islamiyat subject: 90\n",
      "Enter marks of the Science subject:   95\n",
      "Total Marks           500\n",
      "Total Marks Obtained  460\n",
      "Grade: A+\n"
     ]
    }
   ],
   "source": [
    "1#. Write a program which takes 5 inputs from user for different subject’s marks, total it and generate mark sheet using grades ?\n",
    "\n",
    "print(\"CLASS 8TH Marksheet\")\n",
    "\n",
    "Sub1 = int(input(\"Enter marks of the English subject:   \"))\n",
    "Sub2 = int(input(\"Enter marks of the Urdu subject:      \"))\n",
    "Sub3 = int(input(\"Enter marks of the Math subject:      \"))\n",
    "Sub4 = int(input(\"Enter marks of the Islamiyat subject: \"))\n",
    "Sub5 = int(input(\"Enter marks of the Science subject:   \"))\n",
    "\n",
    "print(\"Total Marks           500\")\n",
    "\n",
    "obtained_marks = Sub1 + Sub2 + Sub3 + Sub4 + Sub5\n",
    "print(\"Total Marks Obtained \", obtained_marks)\n",
    "\n",
    "avg =(Sub1 + Sub2 + Sub3 + Sub4 + Sub5)/5\n",
    "\n",
    "\n",
    "if(avg >= 90):\n",
    "    print(\"Grade: A+\")\n",
    "    \n",
    "elif(avg >= 80 and avg < 90):\n",
    "    print(\"Grade: A\")\n",
    "    \n",
    "elif(avg >= 70 and avg < 80):\n",
    "    print(\"Grade: B\")\n",
    "    \n",
    "elif(avg >= 60 and avg < 70):\n",
    "    print(\"Grade: C\")\n",
    "    \n",
    "elif(avg >= 50 and avg < 60):\n",
    "    print(\"Grade: D\")\n",
    "    \n",
    "else:\n",
    "    print(\"Grade: F\")"
   ]
  },
  {
   "cell_type": "code",
   "execution_count": 7,
   "metadata": {},
   "outputs": [
    {
     "name": "stdout",
     "output_type": "stream",
     "text": [
      "Enter a number: 16\n",
      "This is Even number\n"
     ]
    }
   ],
   "source": [
    "2#. Write a program which take input from user and identify that the given number is even or odd?\n",
    "\n",
    "num = int(input(\"Enter a number: \"))\n",
    "\n",
    "if (num % 2) == 0:\n",
    "    print(\"This is Even number\")\n",
    "    \n",
    "else:\n",
    "    print(\"This is Odd number\")"
   ]
  },
  {
   "cell_type": "code",
   "execution_count": 8,
   "metadata": {},
   "outputs": [
    {
     "name": "stdout",
     "output_type": "stream",
     "text": [
      "The length of list is:  6\n"
     ]
    }
   ],
   "source": [
    "3#. Write a program which print the length of the list?\n",
    "\n",
    "n = len([1, 2, 5, \"Ali\", \"Odd\", 2.5])\n",
    "\n",
    "print(\"The length of list is: \", n)"
   ]
  },
  {
   "cell_type": "code",
   "execution_count": 12,
   "metadata": {},
   "outputs": [
    {
     "name": "stdout",
     "output_type": "stream",
     "text": [
      "Sum of numeric in list is: 176\n"
     ]
    }
   ],
   "source": [
    "4#. Write a Python program to sum all the numeric items in a list?\n",
    "\n",
    "list = [22, 21, 33, 45, 55]\n",
    "\n",
    "x = len(list)\n",
    "\n",
    "sum = 0\n",
    "\n",
    "for i in range (x):\n",
    "    sum = sum + list[i]\n",
    "    \n",
    "print(\"Sum of numeric in list is:\", sum)"
   ]
  },
  {
   "cell_type": "code",
   "execution_count": 13,
   "metadata": {},
   "outputs": [
    {
     "name": "stdout",
     "output_type": "stream",
     "text": [
      "The largest number from a numeric list is:  95\n"
     ]
    }
   ],
   "source": [
    "5#. Write a Python program to get the largest number from a numeric list\n",
    "\n",
    "list = [5, 10, 20, 30, 45, 75, 80, 95]\n",
    "\n",
    "print(\"The largest number from a numeric list is: \", max(list))"
   ]
  },
  {
   "cell_type": "code",
   "execution_count": 11,
   "metadata": {},
   "outputs": [
    {
     "name": "stdout",
     "output_type": "stream",
     "text": [
      "1\n",
      "1\n",
      "2\n",
      "3\n"
     ]
    }
   ],
   "source": [
    "6#. Take a list, say for example this one:\n",
    "# a = [1, 1, 2, 3, 5, 8, 13, 21, 34, 55, 89]\n",
    "# and write a program that prints out all the elements of the list that are less than 5.\n",
    "\n",
    "a = [1, 1, 2, 3, 5, 8, 13, 21, 34, 55, 89]\n",
    "\n",
    "for i in a:\n",
    "    if i < 5:\n",
    "        print(i)"
   ]
  },
  {
   "cell_type": "code",
   "execution_count": null,
   "metadata": {},
   "outputs": [],
   "source": []
  }
 ],
 "metadata": {
  "kernelspec": {
   "display_name": "Python 3",
   "language": "python",
   "name": "python3"
  },
  "language_info": {
   "codemirror_mode": {
    "name": "ipython",
    "version": 3
   },
   "file_extension": ".py",
   "mimetype": "text/x-python",
   "name": "python",
   "nbconvert_exporter": "python",
   "pygments_lexer": "ipython3",
   "version": "3.7.4"
  }
 },
 "nbformat": 4,
 "nbformat_minor": 2
}
